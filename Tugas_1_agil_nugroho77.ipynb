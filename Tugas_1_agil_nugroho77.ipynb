{
  "metadata": {
    "language_info": {
      "name": "python"
    },
    "orig_nbformat": 2,
    "colab": {
      "provenance": [],
      "include_colab_link": true
    },
    "kernelspec": {
      "name": "python3",
      "display_name": "Python 3"
    },
    "gpuClass": "standard"
  },
  "nbformat": 4,
  "nbformat_minor": 0,
  "cells": [
    {
      "cell_type": "markdown",
      "metadata": {
        "id": "view-in-github",
        "colab_type": "text"
      },
      "source": [
        "<a href=\"https://colab.research.google.com/github/royanagilnugroho/Python_for_Data_Science/blob/main/Tugas_1_agil_nugroho77.ipynb\" target=\"_parent\"><img src=\"https://colab.research.google.com/assets/colab-badge.svg\" alt=\"Open In Colab\"/></a>"
      ]
    },
    {
      "source": [
        "1. Buatlah 3 variabel yang masing-masing berisi\n",
        "    \n",
        "    a. Nama depan (string)\n",
        "    \n",
        "    b. Umur (integer)\n",
        "    \n",
        "    c. kota tinggal (string)"
      ],
      "cell_type": "markdown",
      "metadata": {
        "id": "xo9PP5hU2ckz"
      }
    },
    {
      "cell_type": "code",
      "execution_count": 6,
      "metadata": {
        "id": "oJjIK-Nz2ck7"
      },
      "outputs": [],
      "source": [
        "#Pertama, untuk menulis string, maka bisa kita definisikan dengan menggunakan tanda single petik (' ') atau double petik (\" \")\n",
        "Nama_Depan = \"Royan\"\n",
        "#Kedua, untuk menulis integer, kita bisa langsung menuliskan seperti persamaan matematika pada umumnya.\n",
        "Umur = 22\n",
        "#Ketiga, untuk menulis string, seperti langkah pertama.\n",
        "Kota_Tinggal = 'Pekalongan'"
      ]
    },
    {
      "source": [
        "2. Tampilkan semua variabel pada soal no 1 menjadi sebuah kalimat dengan menggunakan metode print()"
      ],
      "cell_type": "markdown",
      "metadata": {
        "id": "7pMPseZB2ck-"
      }
    },
    {
      "cell_type": "code",
      "execution_count": 8,
      "metadata": {
        "id": "eHwMkOEL2ck-",
        "colab": {
          "base_uri": "https://localhost:8080/"
        },
        "outputId": "50048370-bbf8-4f77-8cdd-4f447a7c811f"
      },
      "outputs": [
        {
          "output_type": "stream",
          "name": "stdout",
          "text": [
            "Nama saya adalah Royan , berusia 22 dan tinggal di Pekalongan\n"
          ]
        }
      ],
      "source": [
        "#Dalam menulis printing dengan format seperti di bawah ini, maka dapat kita gunakan formula \n",
        "#contoh keluaran yang diharapkan : \"Nama saya adalah Thio, berusia 28 tahun dan tinggal di Bandung.\"\n",
        "print('Nama saya adalah', Nama_Depan ,', berusia' , str(Umur) ,'dan tinggal di', Kota_Tinggal ,)"
      ]
    },
    {
      "source": [
        "3. Dengan menggunakan salah satu string method, ubah kata mangga pada variabel kalimat menjadi apel dan masukkan pada variabel kalimat_2 lalu print variabel kalimat_2"
      ],
      "cell_type": "markdown",
      "metadata": {
        "id": "_nQUZVNX2ck_"
      }
    },
    {
      "cell_type": "code",
      "execution_count": null,
      "metadata": {
        "id": "93gE5Kdz2clA"
      },
      "outputs": [],
      "source": [
        "#Untuk mengganti kata pada data string dari nilai yang ditentukan ke nilai lain yang ditentukan dapat menggunakan\n",
        "#salah satu metode string yakni replace()\n",
        "kalimat = 'Budi menyukai buah mangga'\n",
        "kalimat_2 = kalimat.replace(\"mangga\",\"apel\")\n",
        "print(kalimat_2)"
      ]
    }
  ]
}