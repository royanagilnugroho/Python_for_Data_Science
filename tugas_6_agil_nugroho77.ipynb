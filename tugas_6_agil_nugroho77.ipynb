{
  "cells": [
    {
      "cell_type": "markdown",
      "metadata": {
        "id": "view-in-github",
        "colab_type": "text"
      },
      "source": [
        "<a href=\"https://colab.research.google.com/github/royanagilnugroho/Python_for_Data_Science/blob/main/tugas_6_agil_nugroho77.ipynb\" target=\"_parent\"><img src=\"https://colab.research.google.com/assets/colab-badge.svg\" alt=\"Open In Colab\"/></a>"
      ]
    },
    {
      "cell_type": "markdown",
      "metadata": {
        "id": "X_-RZ45njo1n"
      },
      "source": [
        "1. Buatlah sebuah class dengan nama class = Kendaraan,  tanpa variabel, attribute dan methods"
      ]
    },
    {
      "cell_type": "code",
      "execution_count": null,
      "metadata": {
        "id": "2_SV-dIsjo1u"
      },
      "outputs": [],
      "source": [
        "#kerjakan soal 1 pada sel ini\n",
        "\n",
        "class kendaraan:\n",
        "  pass"
      ]
    },
    {
      "cell_type": "markdown",
      "metadata": {
        "id": "Sb_aVB-Ujo1v"
      },
      "source": [
        "2. Buatlah sebuah class dengan nama class = Kendaraan, yang memiliki atribut instance kecepatan_maksimum dan jarak_tempuh"
      ]
    },
    {
      "cell_type": "code",
      "execution_count": null,
      "metadata": {
        "id": "2kEaZBsPjo1w",
        "outputId": "1a473e10-d4b1-49a5-fc7c-511747c1da25",
        "colab": {
          "base_uri": "https://localhost:8080/"
        }
      },
      "outputs": [
        {
          "output_type": "stream",
          "name": "stdout",
          "text": [
            "mobil memiliki kecepatan 240, dengan jarak tempuh 10\n"
          ]
        }
      ],
      "source": [
        "#kerjakan soal no 2 pada sel ini\n",
        "\n",
        "#contoh pemanggilan\n",
        "#model_1 = Kendaraan(240,10)\n",
        "#print(model_1.kecepatan_maksimum, model_1.jarak_tempuh)\n",
        "\n",
        "#output\n",
        "#240 10\n",
        "\n",
        "class kendaraan:\n",
        "  def __init__(self, kecepatan_max, jarak_tempuh):\n",
        "    self.kecepatan_max = kecepatan_max\n",
        "    self.jarak_tempuh = jarak_tempuh\n",
        "\n",
        "model1 = kendaraan(240,10)\n",
        "print(f\"mobil memiliki kecepatan {model1.kecepatan_max}, dengan jarak tempuh {model1.jarak_tempuh}\")"
      ]
    },
    {
      "cell_type": "markdown",
      "metadata": {
        "id": "mQcUuE-Mjo1x"
      },
      "source": [
        "3. Buatlah sebuah class dengan nama Tesla yang bersifat inheritance/turunan dari class mobil"
      ]
    },
    {
      "cell_type": "code",
      "execution_count": null,
      "metadata": {
        "id": "np3XdRV6jo1x",
        "outputId": "ba5c6286-8597-412e-9ad4-4cc863aa265d",
        "colab": {
          "base_uri": "https://localhost:8080/"
        }
      },
      "outputs": [
        {
          "output_type": "stream",
          "name": "stdout",
          "text": [
            "Nama mobil : Tesla, Warna = Merah, Bahan bakar = Listrik\n"
          ]
        }
      ],
      "source": [
        "#kerjakan soal no 3 pada sel ini\n",
        "\n",
        "class Mobil:\n",
        "\n",
        "    def __init__(self, nama, warna, bahan_bakar):\n",
        "        self.nama = nama\n",
        "        self.warna = warna\n",
        "        self.bahan_bakar = bahan_bakar\n",
        "        \n",
        "\n",
        "# contoh pemanggilan\n",
        "# model_x = Tesla(\"model x\",\"perak\",\"listrik\")\n",
        "# print(f\"Nama Mobil: {model_x.nama}, Warna: {model_x.warna}, Bahan Bakar: {model_x.bahan_bakar}\")\n",
        "\n",
        "# output\n",
        "# Nama Mobil: model x, Warna: perak, Bahan Bakar: listrik\n",
        "\n",
        "class mobil:\n",
        "  def print_nama(self):\n",
        "    print(self.nama)\n",
        "  def print_warna(self):\n",
        "    print(self.warna)\n",
        "  def print_bahanbakar(self):\n",
        "    print(self.bahanbakar)\n",
        "\n",
        "class ON(mobil):\n",
        "  def __init__(self, nama, warna, bahanbakar):\n",
        "    self.nama = nama\n",
        "    self.warna = warna\n",
        "    self.bahanbakar = bahanbakar\n",
        "\n",
        "mobil = ON(\"Tesla\", \"Merah\", \"Listrik\")\n",
        "print(f\"Nama mobil : {mobil.nama}, Warna = {mobil.warna}, Bahan bakar = {mobil.bahanbakar}\")\n"
      ]
    },
    {
      "cell_type": "markdown",
      "metadata": {
        "id": "Dks9wPRZjo1z"
      },
      "source": [
        "4. Buatlah sebuah class dengan ketentuan:\n",
        "    - memiliki nama Aritmatika\n",
        "    - instance atribut/input untuk class adalah dua integer\n",
        "    - memiliki metode yang bernama add yang menampilkan hasil penjumlahan instance atribut/inputan class"
      ]
    },
    {
      "cell_type": "code",
      "execution_count": null,
      "metadata": {
        "id": "nyZrczeojo1z",
        "outputId": "9cbde32a-5278-473a-f34c-f2b06fc4030a",
        "colab": {
          "base_uri": "https://localhost:8080/"
        }
      },
      "outputs": [
        {
          "output_type": "stream",
          "name": "stdout",
          "text": [
            "15\n"
          ]
        }
      ],
      "source": [
        "#kerjakan soal no 4 pada sel ini\n",
        "\n",
        "# contoh pemanggilan\n",
        "# model_hitung = Aritmatika(10,4)\n",
        "# model_hitung.add()\n",
        "\n",
        "# output\n",
        "# 14\n",
        "\n",
        "class aritmatika:\n",
        "  def __init__(self,int1, int2):\n",
        "    self.int1 = int1\n",
        "    self.int2 = int2\n",
        "  def add(self):\n",
        "    hitung = self.int1 + self.int2\n",
        "    return print(hitung)\n",
        "\n",
        "hitung = aritmatika(12,3)\n",
        "hitung.add()"
      ]
    }
  ],
  "metadata": {
    "interpreter": {
      "hash": "b02d93efda564da1915d42b0288c26f05ac833e7645184a564f32e638d57cc3e"
    },
    "kernelspec": {
      "display_name": "Python 3.8.6 64-bit ('public_op': virtualenv)",
      "name": "python3"
    },
    "language_info": {
      "codemirror_mode": {
        "name": "ipython",
        "version": 3
      },
      "file_extension": ".py",
      "mimetype": "text/x-python",
      "name": "python",
      "nbconvert_exporter": "python",
      "pygments_lexer": "ipython3",
      "version": "3.8.6"
    },
    "orig_nbformat": 4,
    "colab": {
      "provenance": [],
      "include_colab_link": true
    }
  },
  "nbformat": 4,
  "nbformat_minor": 0
}