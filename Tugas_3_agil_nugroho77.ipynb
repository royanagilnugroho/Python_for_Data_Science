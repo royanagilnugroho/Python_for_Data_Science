{
  "cells": [
    {
      "cell_type": "markdown",
      "metadata": {
        "id": "2r6Xdq-piUz6"
      },
      "source": [
        "1. Keluarkan dan tampilkan menggunakan print semua anggota list pada sel dibawah"
      ]
    },
    {
      "cell_type": "code",
      "execution_count": null,
      "metadata": {
        "id": "nIZBbzKQiUz-",
        "colab": {
          "base_uri": "https://localhost:8080/"
        },
        "outputId": "041e0bdb-18f0-42f8-8b2d-772597589e69"
      },
      "outputs": [
        {
          "output_type": "stream",
          "name": "stdout",
          "text": [
            "bandung\n",
            "jakarta\n",
            "semarang\n",
            "palembang\n"
          ]
        }
      ],
      "source": [
        "#kerjakan soal no.1 pada sel berikut ini\n",
        "#contoh list = [1,2,3]\n",
        "#contoh hasil\n",
        "#1\n",
        "#2\n",
        "#3\n",
        "\n",
        "data_list = ['bandung', 'jakarta', 'semarang', 'palembang']\n",
        "\n",
        "for kota in data_list :\n",
        "  print(kota)\n"
      ]
    },
    {
      "cell_type": "markdown",
      "metadata": {
        "id": "k-Xtpjs9iUz_"
      },
      "source": [
        "2. Keluarkan dan tampilkan menggunakan metode print anggota list dengan tipe numerik (int & float) dari list pada sel di bawah"
      ]
    },
    {
      "cell_type": "code",
      "execution_count": 1,
      "metadata": {
        "id": "fWn1-dk9iUz_",
        "colab": {
          "base_uri": "https://localhost:8080/"
        },
        "outputId": "0ac34c4a-7439-40ca-df15-66a7df73d7f3"
      },
      "outputs": [
        {
          "output_type": "stream",
          "name": "stdout",
          "text": [
            "makassar\n",
            "True\n",
            "20\n"
          ]
        }
      ],
      "source": [
        "#contoh list = ['a', 1]\n",
        "#contoh hasil :\n",
        "#1\n",
        "\n",
        "data_list_2 = [100, 'makassar', 15.5, True, \"20\"] \n",
        "\n",
        "for kota in data_list_2:\n",
        "  if type(kota) == float or type(kota) == int :\n",
        "    continue\n",
        "  print('{}'.format(kota))"
      ]
    },
    {
      "cell_type": "markdown",
      "metadata": {
        "id": "68iOrEuuiU0A"
      },
      "source": [
        "3. Buat sebuah kode if else yang dapat menyatakan apakah suatu bilangan ganjil atau genap."
      ]
    },
    {
      "cell_type": "code",
      "execution_count": null,
      "metadata": {
        "id": "2RUEECT6iU0A",
        "colab": {
          "base_uri": "https://localhost:8080/"
        },
        "outputId": "ae5632f2-5ae7-484c-f19c-121e7c260654"
      },
      "outputs": [
        {
          "output_type": "stream",
          "name": "stdout",
          "text": [
            "ganjil\n"
          ]
        }
      ],
      "source": [
        "#hasil yang diharapkan\n",
        "#ganjil\n",
        "\n",
        "#untuk mengetahui bahwa suatu bilangan adalah ganjil atau genap maka secara matematis bisa dilakukan dnegan operasi modulus bagi dua.\n",
        "#Jika sisa bagi adalah nol, maka bilangan tersebut adalah genap, jika tidak nol maka ganjil\n",
        "#Gunakan operasi % untuk mengerjakan kalkulasi modulus\n",
        "number = 9\n",
        "if number%2 == 0 :\n",
        "    print('genap')\n",
        "else :\n",
        "    print('ganjil')"
      ]
    },
    {
      "cell_type": "markdown",
      "metadata": {
        "id": "qBTw18kiiU0A"
      },
      "source": [
        "4. Kalikan semua anggota list_1 terhadap anggota ganjil pada list_2. tampilkan hasilnya"
      ]
    },
    {
      "cell_type": "code",
      "execution_count": 2,
      "metadata": {
        "id": "XfDRHtJqiU0B",
        "colab": {
          "base_uri": "https://localhost:8080/"
        },
        "outputId": "bacf7d28-e6ea-4bab-d515-701e61042778"
      },
      "outputs": [
        {
          "output_type": "stream",
          "name": "stdout",
          "text": [
            "3\n",
            "9\n",
            "6\n",
            "18\n",
            "9\n",
            "27\n",
            "12\n",
            "36\n",
            "15\n",
            "45\n"
          ]
        }
      ],
      "source": [
        "#Diberikan anggota list seperti di bawah ini\n",
        "list_1 = [1,2,3,4,5]\n",
        "list_2 = [2,3,6,8,9]\n",
        "\n",
        "#hasil yang diharapkan\n",
        "'''\n",
        "3\n",
        "9\n",
        "6\n",
        "18\n",
        "9\n",
        "27\n",
        "12\n",
        "36\n",
        "15\n",
        "45\n",
        "'''\n",
        "\n",
        "#Perhatikan kita akan kerjakan list di atas dengan indexing yang sama, gunakan fungsi zip\n",
        "for i in list_1:\n",
        "  for j in list_2:\n",
        "    if j % 2 != 0:\n",
        "      print(i * j)"
      ]
    },
    {
      "cell_type": "markdown",
      "metadata": {
        "id": "hvt7arnOiU0B"
      },
      "source": [
        "5. lakukan pengecekan apakah terdapat angka pada tiap2 anggota list. lalu tampilkan sesuai format yang diminta"
      ]
    },
    {
      "cell_type": "code",
      "execution_count": 3,
      "metadata": {
        "id": "DBVzjqE9iU0C",
        "colab": {
          "base_uri": "https://localhost:8080/"
        },
        "outputId": "0632c281-a0eb-4080-ecaf-1fdcec57af3e"
      },
      "outputs": [
        {
          "output_type": "stream",
          "name": "stdout",
          "text": [
            "asda8asd memiliki angka\n",
            "bandunglautanapi tidak memiliki angka\n",
            "washingt0nDC memiliki angka\n"
          ]
        }
      ],
      "source": [
        "#kerjakan soal no.5 pada sel berikut ini\n",
        "#contoh list = ['ada', 'ganesa10']\n",
        "#contoh hasil:\n",
        "#ada tidak memiliki angka\n",
        "#ganesa10 memiliki angka\n",
        "\n",
        "data_list_3 = ['asda8asd', 'bandunglautanapi', 'washingt0nDC']\n",
        "\n",
        "for x in data_list_3:\n",
        "  if x.isalpha():\n",
        "    print('{} tidak memiliki angka'.format(x))\n",
        "  else:\n",
        "    print('{} memiliki angka'.format(x))"
      ]
    },
    {
      "cell_type": "markdown",
      "metadata": {
        "id": "NlTTu8kxiU0C"
      },
      "source": [
        "6. Cari siswa mana saja yang memiliki nilai lebih dari sama dengan 80. Masukkan kedalam sebuah list. print hasilnya"
      ]
    },
    {
      "cell_type": "code",
      "execution_count": 4,
      "metadata": {
        "id": "DYJfyFzSiU0C",
        "colab": {
          "base_uri": "https://localhost:8080/"
        },
        "outputId": "d991712a-c831-4003-a6c3-9495c6b5f1c1"
      },
      "outputs": [
        {
          "output_type": "stream",
          "name": "stdout",
          "text": [
            "Budi\n",
            "Rudi\n",
            "Leo\n"
          ]
        }
      ],
      "source": [
        "\n",
        "data_siswa = [\n",
        "    {\n",
        "        \"nama\":\"Budi\",\n",
        "        \"nilai\": 90\n",
        "    },\n",
        "    {\n",
        "        \"nama\":\"Nina\",\n",
        "        \"nilai\": 78\n",
        "    },\n",
        "    {\n",
        "        \"nama\":\"Rudi\",\n",
        "        \"nilai\": 91\n",
        "    },\n",
        "    {\n",
        "        \"nama\":\"Olivia\",\n",
        "        \"nilai\": 76\n",
        "    },\n",
        "    {\n",
        "        \"nama\":\"Leo\",\n",
        "        \"nilai\": 80\n",
        "    },\n",
        "    {\n",
        "        \"nama\":\"Liam\",\n",
        "        \"nilai\": 67\n",
        "    },\n",
        "    {\n",
        "        \"nama\":\"Sheila\",\n",
        "        \"nilai\": 76\n",
        "    }\n",
        "]\n",
        "\n",
        "#hasil yang diharapkan\n",
        "#[Budi, Rudi, Leo]\n",
        "\n",
        "hasil = []\n",
        "for i in data_siswa:\n",
        "  if i['nilai'] >= 80 :\n",
        "    print(i['nama'])"
      ]
    }
  ],
  "metadata": {
    "kernelspec": {
      "display_name": "Python 3.8.6 64-bit ('public_op')",
      "metadata": {
        "interpreter": {
          "hash": "66914c7a76df292d6a0bba50fafa355dedd93b53ceb1028df6ae26adc2894cfa"
        }
      },
      "name": "python3"
    },
    "language_info": {
      "codemirror_mode": {
        "name": "ipython",
        "version": 3
      },
      "file_extension": ".py",
      "mimetype": "text/x-python",
      "name": "python",
      "nbconvert_exporter": "python",
      "pygments_lexer": "ipython3",
      "version": "3.8.6-final"
    },
    "orig_nbformat": 2,
    "colab": {
      "provenance": []
    }
  },
  "nbformat": 4,
  "nbformat_minor": 0
}