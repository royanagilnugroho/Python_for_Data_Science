{
  "nbformat": 4,
  "nbformat_minor": 0,
  "metadata": {
    "language_info": {
      "codemirror_mode": {
        "name": "ipython",
        "version": 3
      },
      "file_extension": ".py",
      "mimetype": "text/x-python",
      "name": "python",
      "nbconvert_exporter": "python",
      "pygments_lexer": "ipython3",
      "version": "3.8.6-final"
    },
    "orig_nbformat": 2,
    "kernelspec": {
      "name": "python3",
      "display_name": "Python 3.8.6 64-bit ('public_op')",
      "metadata": {
        "interpreter": {
          "hash": "66914c7a76df292d6a0bba50fafa355dedd93b53ceb1028df6ae26adc2894cfa"
        }
      }
    },
    "colab": {
      "provenance": [],
      "include_colab_link": true
    }
  },
  "cells": [
    {
      "cell_type": "markdown",
      "metadata": {
        "id": "view-in-github",
        "colab_type": "text"
      },
      "source": [
        "<a href=\"https://colab.research.google.com/github/royanagilnugroho/Python_for_Data_Science/blob/main/Tugas_2_agil_nugroho77.ipynb\" target=\"_parent\"><img src=\"https://colab.research.google.com/assets/colab-badge.svg\" alt=\"Open In Colab\"/></a>"
      ]
    },
    {
      "cell_type": "markdown",
      "metadata": {
        "id": "KaEDsW5JqSds"
      },
      "source": [
        "1. Lakukan 4 operasi aritmatika pada 2 variabel di bawah (tambah, kurang, kali, bagi), lalu simpan semua hasilnya didalam list dan tampilkan.\n",
        "\n",
        "var_1 = 10\n",
        "\n",
        "var_2 = 2"
      ]
    },
    {
      "cell_type": "code",
      "metadata": {
        "id": "MPENGsLFqSd1",
        "colab": {
          "base_uri": "https://localhost:8080/"
        },
        "outputId": "061c5435-9341-4e89-e44d-e36c863bc311"
      },
      "source": [
        "#Dalam mengerjakan soal di atas, diketahui var1 = 10 dan var2 = 2 maka dengan memperhatikan luaran di bawah ini dapat kita operasikan sebagai berikut\n",
        "#keluaran yang diharapkan : [12,8,20,5]\n",
        "\n",
        "#diketahui\n",
        "var_1 = 10\n",
        "var_2 = 2\n",
        "#operasi aritmatika sesuai luaran secara berturut-turut sebagai berikut\n",
        "hasil1 = var_1 + var_2\n",
        "hasil2 = var_1 - var_2\n",
        "hasil3 = var_1*var_2\n",
        "hasil4 = var_1/var_2\n",
        "\n",
        "luaran = [hasil1,hasil2,hasil3,hasil4]\n",
        "print(luaran)\n"
      ],
      "execution_count": null,
      "outputs": [
        {
          "output_type": "stream",
          "name": "stdout",
          "text": [
            "[12, 8, 20, 5.0]\n"
          ]
        }
      ]
    },
    {
      "cell_type": "markdown",
      "metadata": {
        "id": "wXKjNfn-qSd3"
      },
      "source": [
        "2. Dengan menggunakan index keluarkan nilai dari dua tuple di bawah\n",
        "\n",
        "a. ('Budi', 'Rani', 'Indah', 'Ilham')\n",
        "\n",
        "b. (20, 18, 22, 27)\n",
        "\n",
        "dari tuple a keluarkan Rani, dan dari tuple B keluarkan 22. lalu tampilkan dengan print() sesuai format yang diharapkan"
      ]
    },
    {
      "cell_type": "code",
      "metadata": {
        "id": "J-OcN_GMqSd5",
        "colab": {
          "base_uri": "https://localhost:8080/"
        },
        "outputId": "8ac0c526-ff9e-42d5-c329-0ba2bb3690e2"
      },
      "source": [
        "#Kasus di atas dapat diselesaikan dengan menggunakan slicing tuple\n",
        "#keluaran yang diharapkan: \"Rani adalah mahasiswi yang berusia 22 tahun\"\n",
        "\n",
        "#Slicing tuple untuk mengeluarkan Rani pada poin a.\n",
        "a = ('Budi','Rani','Indah','Ilham')\n",
        "a_new = a[1];\n",
        "#slicing tuple untuk mengeluarkan 22 pada poin b.\n",
        "b = (20,18,22,27)\n",
        "b_new = b[-2];\n",
        "#print sesuai luaran yang diharapkan\n",
        "print(f'{a_new} adalah mahasiswi yang berusia {b_new} tahun')"
      ],
      "execution_count": null,
      "outputs": [
        {
          "output_type": "stream",
          "name": "stdout",
          "text": [
            "Rani adalah mahasiswi yang berusia 22 tahun\n"
          ]
        }
      ]
    },
    {
      "cell_type": "markdown",
      "metadata": {
        "id": "pfNNOzGqqSd6"
      },
      "source": [
        "3. Cari kota asal dari user dengan data di bawah. Cari nilai uniknya/jangan sampai ada pengulangan.\n",
        "\n",
        "data_dict = {'Rudi':'bandung', 'Nina':'jakarta', 'Mia':'semarang', 'Indah':'bandung', 'Salman':'surabaya', 'Mikail':'jakarta'}\n",
        "\n",
        "\n",
        "Hint - Gunakan Set"
      ]
    },
    {
      "cell_type": "code",
      "metadata": {
        "id": "cVTSnYF8qSd7",
        "colab": {
          "base_uri": "https://localhost:8080/"
        },
        "outputId": "afbb7bb9-423a-4982-9f1b-3edcb6e6e155"
      },
      "source": [
        "#perhatikan aturan di bawah ini\n",
        "#keluaran yang diharapkan: {'bandung','jakarta','semarang','surabaya'}\n",
        "#urutan keluaran tidak penting\n",
        "\n",
        "data_dict = {'Rudi':'bandung', 'Nina':'jakarta', 'Mia':'semarang', 'Indah':'bandung', 'Salman':'surabaya', 'Mikail':'jakarta'}\n",
        "# print(data_dict['Rudi'])\n",
        "# print(data_dict['Nina'])\n",
        "# print(data_dict['Mia'])\n",
        "# print(data_dict['Indah'])\n",
        "# print(data_dict['Salman'])\n",
        "# print(data_dict['Mikail'])\n",
        "tuple(set(data_dict.values()))"
      ],
      "execution_count": null,
      "outputs": [
        {
          "output_type": "execute_result",
          "data": {
            "text/plain": [
              "('surabaya', 'jakarta', 'semarang', 'bandung')"
            ]
          },
          "metadata": {},
          "execution_count": 26
        }
      ]
    },
    {
      "cell_type": "markdown",
      "metadata": {
        "id": "SymjRGBMtOqm"
      },
      "source": [
        "4. Gunakan metode slicing untuk mendapatkan hasil yang diharapkan\n",
        "\n",
        "a = ['1', '13b', 'aa1', 1.32, 22.1, 2.34]\n",
        "..."
      ]
    },
    {
      "cell_type": "code",
      "metadata": {
        "id": "GJZS3I0etxKX",
        "colab": {
          "base_uri": "https://localhost:8080/"
        },
        "outputId": "f9d65f1f-2ba2-40a9-ac2d-b916f5a023d4"
      },
      "source": [
        "#keluaran yang diharapkan: \n",
        "#[ '13b', 'aa1', 1.32, 22.1 ]\n",
        "\n",
        "a = ['1', '13b', 'aa1', 1.32, 22.1, 2.34]\n",
        "print(a[1:5])"
      ],
      "execution_count": null,
      "outputs": [
        {
          "output_type": "stream",
          "name": "stdout",
          "text": [
            "['13b', 'aa1', 1.32, 22.1]\n"
          ]
        }
      ]
    },
    {
      "cell_type": "markdown",
      "metadata": {
        "id": "j8mfqe9guBjU"
      },
      "source": [
        "5. Gabungkan kedua list di bawah ini\n",
        "\n",
        "a = [1, 3, 5]\n",
        "\n",
        "b = [5, 1, 3]"
      ]
    },
    {
      "cell_type": "code",
      "metadata": {
        "id": "mJUPQFEruN0t",
        "colab": {
          "base_uri": "https://localhost:8080/"
        },
        "outputId": "c59eb686-8a4d-493d-ac87-e830fa319079"
      },
      "source": [
        "\n",
        "#keluaran yang diharapkan: \n",
        "#[5, 1, 3, 1, 3, 5]\n",
        "\n",
        "a = [1, 3, 5]\n",
        "\n",
        "b = [5, 1, 3]\n",
        "\n",
        "#gunakan fungsi append pada list di atas\n",
        "c = b+a\n",
        "print(c)"
      ],
      "execution_count": null,
      "outputs": [
        {
          "output_type": "stream",
          "name": "stdout",
          "text": [
            "[5, 1, 3, 1, 3, 5]\n"
          ]
        }
      ]
    },
    {
      "cell_type": "markdown",
      "metadata": {
        "id": "9fMErps3uiDU"
      },
      "source": [
        "6. Hilangkan elemen yang bernilai \"bathroom\" dan 10.50 lalu print kembali list areas\n",
        "\n",
        "areas = [\"hallway\", 11.25, \"kitchen\", 18.0,\n",
        "        \"chill zone\", 20.0, \"bedroom\", 10.75,\n",
        "         \"bathroom\", 10.50, \"poolhouse\", 24.5,\n",
        "         \"garage\", 15.45]\n",
        "\n",
        "..."
      ]
    },
    {
      "cell_type": "code",
      "metadata": {
        "id": "EjdPvnFnuwKG",
        "colab": {
          "base_uri": "https://localhost:8080/"
        },
        "outputId": "7b3ef503-54cc-4c43-a2fa-78b352868561"
      },
      "source": [
        "\n",
        "#keluaran yang diharapkan: \n",
        "#['hallway', 11.25, 'kitchen', 18.0, 'chill zone', 20.0, 'bedroom', 10.75, 'poolhouse', 24.5, 'garage', 15.45]\n",
        "areas = [\"hallway\", 11.25, \"kitchen\", 18.0, \"chill zone\", 20.0, \"bedroom\", 10.75, \"bathroom\", 10.50, \"poolhouse\", 24.5, \"garage\", 15.45]\n",
        "areas.remove(\"bathroom\")\n",
        "areas.remove(10.50)\n",
        "print(areas)"
      ],
      "execution_count": null,
      "outputs": [
        {
          "output_type": "stream",
          "name": "stdout",
          "text": [
            "['hallway', 11.25, 'kitchen', 18.0, 'chill zone', 20.0, 'bedroom', 10.75, 'poolhouse', 24.5, 'garage', 15.45]\n"
          ]
        }
      ]
    },
    {
      "cell_type": "markdown",
      "metadata": {
        "id": "GTChil2XvR2t"
      },
      "source": [
        "7.\n",
        "\n",
        "***europe = {'spain':'madrid', 'france':'paris', 'germany':'bonn', 'norway':'oslo', 'italy':'rome', 'poland':'warsaw', 'australia':'vienna' }***\n",
        "\n",
        "\n",
        "update nilai ibukota german ke berlin\n",
        "\n",
        ".........\n",
        "\n",
        "remove australia dari europa\n",
        "\n",
        "........\n",
        "\n",
        "print(europe)"
      ]
    },
    {
      "cell_type": "code",
      "metadata": {
        "id": "y3BndXSZvl-R",
        "colab": {
          "base_uri": "https://localhost:8080/"
        },
        "outputId": "0741bb15-39d2-4032-a6d9-4a714ee6846e"
      },
      "source": [
        "\n",
        "#keluaran yang diharapkan: \n",
        "#{'spain': 'madrid', 'france': 'paris', 'germany': 'berlin', 'norway': 'oslo', 'italy': 'rome', 'poland': 'warsaw'}\n",
        "europe = {'spain':'madrid', 'france':'paris', 'germany':'bonn', 'norway':'oslo', 'italy':'rome', 'poland':'warsaw', 'australia':'vienna' }\n",
        "europe.pop('australia')\n",
        "print(europe)"
      ],
      "execution_count": null,
      "outputs": [
        {
          "output_type": "stream",
          "name": "stdout",
          "text": [
            "{'spain': 'madrid', 'france': 'paris', 'germany': 'bonn', 'norway': 'oslo', 'italy': 'rome', 'poland': 'warsaw'}\n"
          ]
        }
      ]
    },
    {
      "cell_type": "markdown",
      "metadata": {
        "id": "Ra6Cxl-vv05z"
      },
      "source": [
        "8.\n",
        "Cari semua nilai yang sama dari kedua list berikut ini. Print dalam bentuk list\n",
        "\n",
        "\n",
        "a = [1,4,24,53,67,45,23,4,7,8,2,9,6,10,19,20,23,13,19]\n",
        "\n",
        "b = [1,3,5,7,9,11,13,15,17,19,21,23]"
      ]
    },
    {
      "cell_type": "code",
      "metadata": {
        "id": "ouDKp690wNut",
        "colab": {
          "base_uri": "https://localhost:8080/"
        },
        "outputId": "790a162a-893a-408e-bdb7-0c00c480c7b8"
      },
      "source": [
        "#kerjakan soal no 8 pada sel ini\n",
        "#keluaran yang diharapkan: \n",
        "#[1, 7, 9, 13, 19, 23]\n",
        "\n",
        "#ubah list ke set agar bisa gunakan intersection\n",
        "a = [1,4,24,53,67,45,23,4,7,8,2,9,6,10,19,20,23,13,19]\n",
        "a_set = set(a)\n",
        "b = [1,3,5,7,9,11,13,15,17,19,21,23]\n",
        "b_set = set(b)\n",
        "\n",
        "#ubah set ke list agar sesuai dengan luaran yang diharapkan\n",
        "mylist= list(a_set & b_set)\n",
        "print(mylist)\n"
      ],
      "execution_count": null,
      "outputs": [
        {
          "output_type": "stream",
          "name": "stdout",
          "text": [
            "[1, 7, 9, 13, 19, 23]\n"
          ]
        }
      ]
    },
    {
      "cell_type": "code",
      "source": [],
      "metadata": {
        "id": "gWCTTAB6dDri"
      },
      "execution_count": null,
      "outputs": []
    }
  ]
}