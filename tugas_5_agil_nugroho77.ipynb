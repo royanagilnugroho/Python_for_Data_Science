{
  "cells": [
    {
      "cell_type": "markdown",
      "metadata": {
        "id": "jN6OTDumrLvV"
      },
      "source": [
        "1. Buatlah sebuah fungsi di python yang memerlukan dua argument, nama dan usia. Lalu menampilkan dua argument tersebut saat fungsi dipanggil"
      ]
    },
    {
      "cell_type": "code",
      "execution_count": 1,
      "metadata": {
        "id": "1yFYKQhBrLvd",
        "colab": {
          "base_uri": "https://localhost:8080/"
        },
        "outputId": "f35d6fc0-d656-4e12-c6c3-79f432fc1f46"
      },
      "outputs": [
        {
          "output_type": "stream",
          "name": "stdout",
          "text": [
            "Rini, 20\n",
            "None\n"
          ]
        }
      ],
      "source": [
        "#kerjakan soal no. 1 pada sel ini\n",
        "\n",
        "#contoh pemanggilan fungsi\n",
        "#func1(\"Rina\", 20)\n",
        "\n",
        "#output\n",
        "#Rina 20\n",
        "def Sapaan():\n",
        "    print('\"Rini\", 20')\n",
        "\n",
        "def Sapaan(umur=\"20\"):\n",
        "    print(\"Rini,\", umur)\n",
        "\n",
        "print(Sapaan())"
      ]
    },
    {
      "cell_type": "markdown",
      "metadata": {
        "id": "FNW5VR45rLvf"
      },
      "source": [
        "2. Buatlah fungsi yang bisa melakukan print semua parameter/argument yang menjadi inputan. Fungsi tersebut harus bisa menerima berapapun argument yang dimasukkan tanpa error. "
      ]
    },
    {
      "cell_type": "code",
      "execution_count": 4,
      "metadata": {
        "id": "1MbGVT5IrLvf",
        "colab": {
          "base_uri": "https://localhost:8080/"
        },
        "outputId": "729cd648-7e7c-4354-da76-760982c25965"
      },
      "outputs": [
        {
          "output_type": "stream",
          "name": "stdout",
          "text": [
            "1\n",
            "2\n",
            "3\n",
            "4\n",
            "5\n",
            "6\n"
          ]
        }
      ],
      "source": [
        "#kerjakan soal no. 2 pada sel ini\n",
        "\n",
        "#contoh pemanggilan fungsi\n",
        "#func2(1,2,3)\n",
        "\n",
        "'''\n",
        "output\n",
        "1\n",
        "2\n",
        "3\n",
        "'''\n",
        "\n",
        "#contoh pemanggilan fungsi\n",
        "#func1(1,2,3,4,5,6)\n",
        "\n",
        "'''\n",
        "output\n",
        "1\n",
        "2\n",
        "3\n",
        "4\n",
        "5\n",
        "6\n",
        "'''\n",
        "def fungsi(*angka):\n",
        "  for item in angka:\n",
        "    print(item)\n",
        "\n",
        "\n",
        "fungsi(1,2,3,4,5,6)"
      ]
    },
    {
      "cell_type": "markdown",
      "metadata": {
        "id": "wFVbYs4TrLvg"
      },
      "source": [
        "3. Buatlah sebuah fungsi yang dapat mencari jumlah total dari anggota pada list. Syarat pengerjaan:\n",
        "     - tanpa menggunakan loop/iterasi\n",
        "     - manfaatkan fungsi lambda\n",
        "\n",
        "list_nilai = [23,17,5,8,25,15]"
      ]
    },
    {
      "cell_type": "code",
      "execution_count": 7,
      "metadata": {
        "id": "lZk2M-v8rLvg",
        "colab": {
          "base_uri": "https://localhost:8080/"
        },
        "outputId": "02b0e331-f460-4a90-e2b9-b907c4f85165"
      },
      "outputs": [
        {
          "output_type": "execute_result",
          "data": {
            "text/plain": [
              "72"
            ]
          },
          "metadata": {},
          "execution_count": 7
        }
      ],
      "source": [
        "#kerjakan soal no. 3 pada sel ini\n",
        "\n",
        "#contoh pemanggilan fungsi\n",
        "#func3(list_nilai)\n",
        "\n",
        "#output\n",
        "#93\n",
        "\n",
        "\n",
        "def jumlah(list):\n",
        "  hasil = 0\n",
        "  for i in list:\n",
        "    hasil += i\n",
        "  return hasil\n",
        "  \n",
        "list_nilai = [2,17,5,8,25,15]\n",
        "jumlah(list_nilai)"
      ]
    },
    {
      "cell_type": "markdown",
      "metadata": {
        "id": "dYtJlOUfrLvh"
      },
      "source": [
        "4. Buatlah sebuah fungsi yang dapat mencari nilai yang lebih besar/sama dengan 80 dari anggota pada list. Syarat pengerjaan:\n",
        "     - tanpa menggunakan loop/iterasi\n",
        "     - manfaatkan fungsi lambda\n",
        "     - ouput merupakan list\n",
        "\n",
        "nilai_siswa = [67,89,80,67,25,92]"
      ]
    },
    {
      "cell_type": "code",
      "execution_count": 10,
      "metadata": {
        "id": "tHLH5HJvrLvi",
        "colab": {
          "base_uri": "https://localhost:8080/"
        },
        "outputId": "b5020707-0c41-4e1e-861e-4b5672f4498b"
      },
      "outputs": [
        {
          "output_type": "stream",
          "name": "stdout",
          "text": [
            "[89, 80, 92]\n"
          ]
        }
      ],
      "source": [
        "#kerjakan soal no. 4 pada sel ini\n",
        "\n",
        "#contoh pemanggilan fungsi\n",
        "#func4(nilai_siswa)\n",
        "\n",
        "#output\n",
        "#[89,80,92]\n",
        "\n",
        "nilai_siswa = [67,89,80,67,25,92]\n",
        "new_nilai = list(filter(lambda a: (a >= 80), nilai_siswa))\n",
        "print(new_nilai)"
      ]
    },
    {
      "cell_type": "markdown",
      "metadata": {
        "id": "A7g_FZu8rLvj"
      },
      "source": [
        "5. Buatlah sebuah fungsi untuk mengecek apakah suatu string palindrom atau bukan\n",
        "\n",
        "kata_1 = \"makam\"\n",
        "kata_2 = \"makan\""
      ]
    },
    {
      "cell_type": "code",
      "execution_count": 9,
      "metadata": {
        "id": "i16Mef9BrLvk",
        "colab": {
          "base_uri": "https://localhost:8080/"
        },
        "outputId": "39e3c864-391c-4ef0-d301-e276c48585bd"
      },
      "outputs": [
        {
          "output_type": "stream",
          "name": "stdout",
          "text": [
            "kalimat:\"makan\" bukan merupakan palindrome\n"
          ]
        }
      ],
      "source": [
        "#kerjakan soal no.5 pada sel ini\n",
        "\n",
        "#contoh pemanggilan fungsi\n",
        "#test_palindrom(kata_1)\n",
        "#test_palindrom(kata_2)\n",
        "\n",
        "#output\n",
        "#makam merupakan palindrom\n",
        "#makan bukan merupakan palindrom\n",
        "\n",
        "kata_1 = \"makam\" \n",
        "kata_2 = \"makan\"\n",
        "\n",
        "kalimat = 'makan'\n",
        "kalimat_dibalik = kalimat[::-1]\n",
        "if kalimat == kalimat_dibalik:\n",
        "  print('kalimat:\"{}\" merupakan palindrome'.format(kalimat))\n",
        "else:\n",
        "  print('kalimat:\"{}\" bukan merupakan palindrome'.format(kalimat))"
      ]
    }
  ],
  "metadata": {
    "kernelspec": {
      "display_name": "Python 3.8.6 64-bit ('public_op')",
      "metadata": {
        "interpreter": {
          "hash": "66914c7a76df292d6a0bba50fafa355dedd93b53ceb1028df6ae26adc2894cfa"
        }
      },
      "name": "python3"
    },
    "language_info": {
      "codemirror_mode": {
        "name": "ipython",
        "version": 3
      },
      "file_extension": ".py",
      "mimetype": "text/x-python",
      "name": "python",
      "nbconvert_exporter": "python",
      "pygments_lexer": "ipython3",
      "version": "3.8.6-final"
    },
    "orig_nbformat": 2,
    "colab": {
      "provenance": []
    }
  },
  "nbformat": 4,
  "nbformat_minor": 0
}